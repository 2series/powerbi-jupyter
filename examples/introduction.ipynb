{
 "cells": [
  {
   "cell_type": "markdown",
   "metadata": {},
   "source": [
    "# Embedding sample notebook"
   ]
  },
  {
   "cell_type": "code",
   "execution_count": null,
   "metadata": {},
   "outputs": [],
   "source": [
    "from powerbi_client import Report"
   ]
  },
  {
   "cell_type": "code",
   "execution_count": null,
   "metadata": {},
   "outputs": [],
   "source": [
    "import requests\n",
    "\n",
    "# Embed config for sample report\n",
    "res = requests.get('https://playgroundbe-bck-1.azurewebsites.net/Reports/SampleReport')\n",
    "\n",
    "access_token = res.json()['EmbedToken']['Token']\n",
    "embed_url = res.json()['EmbedUrl']"
   ]
  },
  {
   "cell_type": "markdown",
   "metadata": {},
   "source": [
    "### Create an instance of Power BI Report"
   ]
  },
  {
   "cell_type": "code",
   "execution_count": null,
   "metadata": {},
   "outputs": [],
   "source": [
    "report = Report(access_token, embed_url, token_type=1)"
   ]
  },
  {
   "cell_type": "markdown",
   "metadata": {},
   "source": [
    "### Power BI event handlers"
   ]
  },
  {
   "cell_type": "code",
   "execution_count": null,
   "metadata": {},
   "outputs": [],
   "source": [
    "def loaded_callback(event_details):\n",
    "    print('loaded')\n",
    "\n",
    "def rendered_callback(event_details):\n",
    "    print('rendered')\n",
    "\n",
    "def error_callback(event_details):\n",
    "    print('error', event_details)\n",
    "\n",
    "report.on('loaded', loaded_callback)\n",
    "report.on('rendered', rendered_callback)\n",
    "report.on('error', error_callback)"
   ]
  },
  {
   "cell_type": "markdown",
   "metadata": {},
   "source": [
    "#### Load the report in the output cell"
   ]
  },
  {
   "cell_type": "code",
   "execution_count": null,
   "metadata": {
    "scrolled": false
   },
   "outputs": [],
   "source": [
    "# Render report\n",
    "report"
   ]
  },
  {
   "cell_type": "markdown",
   "metadata": {},
   "source": [
    "#### Change dimensions of embedded report"
   ]
  },
  {
   "cell_type": "code",
   "execution_count": null,
   "metadata": {
    "scrolled": false
   },
   "outputs": [],
   "source": [
    "# Change dimensions of embedded report\n",
    "report.set_dimensions(300, 450)"
   ]
  },
  {
   "cell_type": "markdown",
   "metadata": {},
   "source": [
    "### Export data from a visual of the embedded report"
   ]
  },
  {
   "cell_type": "code",
   "execution_count": null,
   "metadata": {
    "scrolled": false
   },
   "outputs": [],
   "source": [
    "def get_active_page(self):\n",
    "    pages = self.get_pages()\n",
    "    active_page = {}\n",
    "    for page in pages:\n",
    "        if page['isActive'] == True:\n",
    "            active_page = page\n",
    "    return active_page"
   ]
  },
  {
   "cell_type": "code",
   "execution_count": null,
   "metadata": {},
   "outputs": [],
   "source": [
    "active_page = get_active_page(report)\n",
    "active_page_name = active_page['name']\n",
    "\n",
    "visuals = report.get_visuals(active_page_name)\n",
    "\n",
    "visual_name = visuals[0]['name']"
   ]
  },
  {
   "cell_type": "markdown",
   "metadata": {},
   "source": [
    "#### Export summarized data from a visual of the embedded report"
   ]
  },
  {
   "cell_type": "code",
   "execution_count": null,
   "metadata": {},
   "outputs": [],
   "source": [
    "summarized_exported_data = report.extract_data(active_page_name, visual_name, rows = 5)\n",
    "\n",
    "print(summarized_exported_data)"
   ]
  },
  {
   "cell_type": "markdown",
   "metadata": {},
   "source": [
    "#### Export underlying data from a visual of the embedded report"
   ]
  },
  {
   "cell_type": "code",
   "execution_count": null,
   "metadata": {},
   "outputs": [],
   "source": [
    "underlying_exported_data = report.extract_data(active_page_name, visual_name, rows = 5, underlying_data = True)\n",
    "\n",
    "print(underlying_exported_data)"
   ]
  },
  {
   "cell_type": "markdown",
   "metadata": {},
   "source": [
    "### Apply report filters"
   ]
  },
  {
   "cell_type": "code",
   "execution_count": null,
   "metadata": {},
   "outputs": [],
   "source": [
    "filter = {\n",
    "    '$schema': \"http://powerbi.com/product/schema#basic\",\n",
    "    'target': {\n",
    "        'table': \"Geo\",\n",
    "        'column': \"Region\"\n",
    "    },\n",
    "    'operator': \"In\",\n",
    "    'values': [\"West\"]\n",
    "}\n",
    "report.set_filters([filter])"
   ]
  }
 ],
 "metadata": {
  "kernelspec": {
   "display_name": "Python 3",
   "language": "python",
   "name": "python3"
  },
  "language_info": {
   "codemirror_mode": {
    "name": "ipython",
    "version": 3
   },
   "file_extension": ".py",
   "mimetype": "text/x-python",
   "name": "python",
   "nbconvert_exporter": "python",
   "pygments_lexer": "ipython3",
   "version": "3.9.0"
  }
 },
 "nbformat": 4,
 "nbformat_minor": 2
}
