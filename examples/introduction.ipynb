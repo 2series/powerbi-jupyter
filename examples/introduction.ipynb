{
 "cells": [
  {
   "cell_type": "markdown",
   "metadata": {},
   "source": [
    "# Embedding sample notebook"
   ]
  },
  {
   "cell_type": "code",
   "execution_count": null,
   "metadata": {},
   "outputs": [],
   "source": [
    "from powerbiclient import Report, models\n",
    "from io import StringIO\n",
    "from ipywidgets import interact\n",
    "import requests\n",
    "import pandas as pd"
   ]
  },
  {
   "cell_type": "markdown",
   "metadata": {},
   "source": [
    "## Following two scenarios are supported for embedding Power BI content:\n",
    "\n",
    "### [Embedding for your organization](https://docs.microsoft.com/en-us/power-bi/developer/embedded/embedding#embedding-for-your-organization)\n",
    "#### Following two methods can be used to authenticate the user and get the access token:\n",
    "\n",
    "- [Device flow authentication](https://msal-python.readthedocs.io/en/latest/#msal.PublicClientApplication.acquire_token_by_device_flow)\n",
    "    \n",
    "    Code snippet:\n",
    "    ``` py\n",
    "    from powerbiclient.authentication import DeviceCodeLoginAuthentication\n",
    "    device_auth = DeviceCodeLoginAuthentication()\n",
    "    token_with_device_code = device_auth.get_access_token()\n",
    "    ```\n",
    "- [Interactive authentication](https://msal-python.readthedocs.io/en/latest/#msal.PublicClientApplication.acquire_token_interactive)\n",
    "    \n",
    "    Code snippet:\n",
    "    ``` py\n",
    "    from powerbiclient.authentication import InteractiveLoginAuthentication\n",
    "    interactive_auth = InteractiveLoginAuthentication()\n",
    "    token_with_redirect = interactive_auth.get_access_token()\n",
    "    \n",
    "    ```\n",
    "    \n",
    "Note: Use the access token acquired above while creating the report instance\n",
    "    \n",
    "    \n",
    "\n",
    "### [Embedding for your customers](https://docs.microsoft.com/en-us/power-bi/developer/embedded/embedding#embedding-for-your-customers)\n",
    "#### For the purpose of demo, a sample report is being embedded:"
   ]
  },
  {
   "cell_type": "code",
   "execution_count": null,
   "metadata": {},
   "outputs": [],
   "source": [
    "# Embed config for sample report\n",
    "res = requests.get('https://playgroundbe-bck-1.azurewebsites.net/Reports/SampleReport')\n",
    "\n",
    "access_token = res.json()['EmbedToken']['Token']\n",
    "embed_url = res.json()['EmbedUrl']"
   ]
  },
  {
   "cell_type": "markdown",
   "metadata": {},
   "source": [
    "### Create an instance of Power BI Report"
   ]
  },
  {
   "cell_type": "markdown",
   "metadata": {},
   "source": [
    "- Below snippets are the values for optional view_mode parameter\n",
    "``` py \n",
    "view_mode=models.EmbedMode.VIEW.value\n",
    "view_mode=models.EmbedMode.EDIT.value\n",
    "view_mode=models.EmbedMode.CREATE.value\n",
    "``` \n",
    "Default value for the parameter is \n",
    "``` py \n",
    "view_mode=models.EmbedMode.VIEW.value \n",
    "```\n",
    "\n",
    "- Below snippets are the values for optional [permissions](https://docs.microsoft.com/en-us/javascript/api/overview/powerbi/configure-report-settings#open-in-edit-mode) parameter for embedding the report\n",
    "``` py \n",
    "permissions=models.Permissions.READ.value\n",
    "permissions=models.Permissions.READWRITE.value\n",
    "permissions=models.Permissions.COPY.value\n",
    "permissions=models.Permissions.CREATE.value\n",
    "permissions=models.Permissions.ALL.value\n",
    "``` \n",
    "Default value for the parameter is \n",
    "``` py\n",
    "permissions=models.Permissions.READ.value \n",
    "```\n",
    "\n",
    "#### Render report in Create mode\n",
    "User needs to pass below snippet as a parameter to create a new report in embed mode\n",
    "``` py\n",
    "dataset_id='POWER_BI_DATASET_ID'\n",
    "```\n",
    "Note: \n",
    "- Generate Embed URL:\n",
    "User can generate create report embed url using [Get Dataset In Group](https://docs.microsoft.com/en-us/rest/api/power-bi/datasets/getdatasetsingroup) Power BI Rest API\n",
    "\n",
    "- Generate Embed Token:\n",
    "User can generate embed token using [Generate Token For Create In Group](https://docs.microsoft.com/en-us/rest/api/power-bi/embedtoken/reports_generatetokenforcreateingroup) Power BI REST API\n",
    "\n",
    "- User needs to pass below snippets as parameters if access_token or embed_url are not added as a parameter in report()\n",
    "``` py\n",
    "client_id='AZURE_ACTIVE_DIRECTORY_CLIENT_ID'\n",
    "group_id='POWER_BI_GROUP_ID'\n",
    "```\n",
    "- User needs to provide below scopes with client_id while performing Device flow/Interactive authentication to embed report in create mode\n",
    "``` py\n",
    "scopes = [\"https://analysis.windows.net/powerbi/api/Dataset.ReadWrite.All\"\n",
    "            ,\"https://analysis.windows.net/powerbi/api/Content.Create\"\n",
    "            , \"https://analysis.windows.net/powerbi/api/Workspace.ReadWrite.All\"]\n",
    "client_id='Azure_ACTIVE_DIRECTORY_CLIENT_ID'\n",
    "```\n",
    "- For providing necessary permissions user needs to pass below snippet as a parameter\n",
    "``` py\n",
    "permissions=models.Permissions.CREATE.value\n",
    "```\n"
   ]
  },
  {
   "cell_type": "code",
   "execution_count": null,
   "metadata": {},
   "outputs": [],
   "source": [
    "report = Report(access_token=access_token, embed_url=embed_url, token_type=models.TokenType.EMBED.value)"
   ]
  },
  {
   "cell_type": "markdown",
   "metadata": {},
   "source": [
    "### Power BI event handlers"
   ]
  },
  {
   "cell_type": "markdown",
   "metadata": {},
   "source": [
    "#### Set report loaded event handler"
   ]
  },
  {
   "cell_type": "code",
   "execution_count": null,
   "metadata": {},
   "outputs": [],
   "source": [
    "def loaded_callback(event_details):\n",
    "    print('Report is loaded')\n",
    "\n",
    "report.on('loaded', loaded_callback)"
   ]
  },
  {
   "cell_type": "markdown",
   "metadata": {},
   "source": [
    "#### Set report rendered event handler"
   ]
  },
  {
   "cell_type": "code",
   "execution_count": null,
   "metadata": {},
   "outputs": [],
   "source": [
    "def rendered_callback(event_details):\n",
    "    print('Report is rendered')\n",
    "\n",
    "report.on('rendered', rendered_callback)"
   ]
  },
  {
   "cell_type": "markdown",
   "metadata": {},
   "source": [
    "#### Set report error event handler"
   ]
  },
  {
   "cell_type": "code",
   "execution_count": null,
   "metadata": {},
   "outputs": [],
   "source": [
    "def error_callback(event_details):\n",
    "    print('error', event_details)\n",
    "\n",
    "report.on('error', error_callback)"
   ]
  },
  {
   "cell_type": "markdown",
   "metadata": {},
   "source": [
    "#### Load the report in the output cell"
   ]
  },
  {
   "cell_type": "code",
   "execution_count": null,
   "metadata": {
    "scrolled": false
   },
   "outputs": [],
   "source": [
    "# Render report\n",
    "report"
   ]
  },
  {
   "cell_type": "markdown",
   "metadata": {},
   "source": [
    "#### Change dimensions of embedded report"
   ]
  },
  {
   "cell_type": "code",
   "execution_count": null,
   "metadata": {
    "scrolled": false
   },
   "outputs": [],
   "source": [
    "# Change dimensions of embedded report\n",
    "report.set_dimensions(300, 450)"
   ]
  },
  {
   "cell_type": "markdown",
   "metadata": {},
   "source": [
    "### Export data from a visual of the embedded report"
   ]
  },
  {
   "cell_type": "markdown",
   "metadata": {},
   "source": [
    "#### Get the active page"
   ]
  },
  {
   "cell_type": "code",
   "execution_count": null,
   "metadata": {
    "scrolled": false
   },
   "outputs": [],
   "source": [
    "def get_active_page(self):\n",
    "    \n",
    "    # Get list of pages\n",
    "    pages = self.get_pages()\n",
    "    active_page = {}\n",
    "    for page in pages:\n",
    "        \n",
    "        # Get active page\n",
    "        if page['isActive'] == True:\n",
    "            active_page = page\n",
    "            break\n",
    "    return active_page"
   ]
  },
  {
   "cell_type": "markdown",
   "metadata": {},
   "source": [
    "#### Get the visual whose data is to be exported"
   ]
  },
  {
   "cell_type": "code",
   "execution_count": null,
   "metadata": {},
   "outputs": [],
   "source": [
    "active_page = get_active_page(report)\n",
    "active_page_name = active_page['name']\n",
    "\n",
    "# Get list of visuals on active page\n",
    "visuals = report.visuals_on_page(active_page_name)\n",
    "\n",
    "# Get visual whose type is 'clusteredColumnChart'\n",
    "visual = next(filter(lambda visual: visual['type'] == 'clusteredColumnChart', visuals))\n",
    "visual_name = visual['name']"
   ]
  },
  {
   "cell_type": "markdown",
   "metadata": {},
   "source": [
    "#### Export summarized data from a visual of the embedded report"
   ]
  },
  {
   "cell_type": "code",
   "execution_count": null,
   "metadata": {},
   "outputs": [],
   "source": [
    "summarized_exported_data = report.export_visual_data(active_page_name, visual_name, rows = 20)\n",
    "\n",
    "print(summarized_exported_data)"
   ]
  },
  {
   "cell_type": "markdown",
   "metadata": {},
   "source": [
    "#### Export underlying data from a visual of the embedded report"
   ]
  },
  {
   "cell_type": "code",
   "execution_count": null,
   "metadata": {},
   "outputs": [],
   "source": [
    "underlying_exported_data = report.export_visual_data(active_page_name, visual_name, rows = 5, export_data_type = models.ExportDataType.UNDERLYING.value)\n",
    "\n",
    "print(underlying_exported_data)"
   ]
  },
  {
   "cell_type": "markdown",
   "metadata": {},
   "source": [
    "### Convert exported visual data into CSV and load into pandas dataframe"
   ]
  },
  {
   "cell_type": "code",
   "execution_count": null,
   "metadata": {},
   "outputs": [],
   "source": [
    "data = StringIO(summarized_exported_data)\n",
    "\n",
    "df = pd.read_csv(data, sep=\",\")\n",
    "df.head()"
   ]
  },
  {
   "cell_type": "markdown",
   "metadata": {},
   "source": [
    "### Visualize the data"
   ]
  },
  {
   "cell_type": "code",
   "execution_count": null,
   "metadata": {},
   "outputs": [],
   "source": [
    "df.plot.pie(y=\"Total Units\", labels=df.loc[:,'isVanArsdel'].values.tolist(), figsize=(10,15))"
   ]
  },
  {
   "cell_type": "markdown",
   "metadata": {},
   "source": [
    "### Filter the report by region"
   ]
  },
  {
   "cell_type": "code",
   "execution_count": null,
   "metadata": {},
   "outputs": [],
   "source": [
    "def filter_report(Region):\n",
    "    region_filter = {\n",
    "        '$schema': \"http://powerbi.com/product/schema#basic\",\n",
    "        'target': {\n",
    "            'table': \"Geo\",\n",
    "            'column': \"Region\"\n",
    "        },\n",
    "        'operator': \"In\",\n",
    "        'values': [Region]\n",
    "    }\n",
    "    report.remove_filters()\n",
    "    report.update_filters([region_filter])"
   ]
  },
  {
   "cell_type": "markdown",
   "metadata": {},
   "source": [
    "### Filter report using ipywidget"
   ]
  },
  {
   "cell_type": "code",
   "execution_count": null,
   "metadata": {},
   "outputs": [],
   "source": [
    "report"
   ]
  },
  {
   "cell_type": "code",
   "execution_count": null,
   "metadata": {},
   "outputs": [],
   "source": [
    "interact(filter_report, Region=['Central', 'East', 'West']);"
   ]
  },
  {
   "cell_type": "markdown",
   "metadata": {},
   "source": [
    "### Get report bookmarks"
   ]
  },
  {
   "cell_type": "code",
   "execution_count": null,
   "metadata": {},
   "outputs": [],
   "source": [
    "# Get list of bookmarks\n",
    "bookmarks_list = report.get_bookmarks()\n",
    "\n",
    "# Convert the list into a dataframe\n",
    "bookmarks_dataframe = pd.DataFrame(bookmarks_list)\n",
    "\n",
    "# Rename columns\n",
    "bookmarks_dataframe.rename(columns={'name':'Name', 'displayName':'Display Name', 'state':'State'}, inplace=True)\n",
    "bookmarks_dataframe"
   ]
  },
  {
   "cell_type": "markdown",
   "metadata": {},
   "source": [
    "### Apply report bookmark"
   ]
  },
  {
   "cell_type": "code",
   "execution_count": null,
   "metadata": {},
   "outputs": [],
   "source": [
    "def apply_bookmark(BookmarkDisplayName):\n",
    "    \n",
    "    # Get bookmark name corresponding to the display name provided by the user\n",
    "    bookmark_name = bookmarks_dataframe[bookmarks_dataframe['Display Name'] == BookmarkDisplayName].Name.values[0]\n",
    "    report.set_bookmark(bookmark_name)"
   ]
  },
  {
   "cell_type": "markdown",
   "metadata": {},
   "source": [
    "### Apply bookmark using ipywidget"
   ]
  },
  {
   "cell_type": "code",
   "execution_count": null,
   "metadata": {},
   "outputs": [],
   "source": [
    "report"
   ]
  },
  {
   "cell_type": "code",
   "execution_count": null,
   "metadata": {},
   "outputs": [],
   "source": [
    "interact(apply_bookmark, BookmarkDisplayName=bookmarks_dataframe['Display Name'])"
   ]
  }
 ],
 "metadata": {
  "kernelspec": {
   "display_name": "Python 3",
   "language": "python",
   "name": "python3"
  },
  "language_info": {
   "codemirror_mode": {
    "name": "ipython",
    "version": 3
   },
   "file_extension": ".py",
   "mimetype": "text/x-python",
   "name": "python",
   "nbconvert_exporter": "python",
   "pygments_lexer": "ipython3",
   "version": "3.8.6"
  }
 },
 "nbformat": 4,
 "nbformat_minor": 2
}
