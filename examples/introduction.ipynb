{
 "cells": [
  {
   "cell_type": "markdown",
   "metadata": {},
   "source": [
    "# Embedding sample notebook"
   ]
  },
  {
   "cell_type": "code",
   "execution_count": null,
   "metadata": {},
   "outputs": [],
   "source": [
    "from powerbiclient import Report\n",
    "import requests\n",
    "from io import StringIO\n",
    "import pandas as pd\n",
    "from ipywidgets import interact"
   ]
  },
  {
   "cell_type": "markdown",
   "metadata": {},
   "source": [
    "## Following two scenarios are supported for embedding Power BI content:\n",
    "\n",
    "### [Embedding for your organization](https://docs.microsoft.com/en-us/power-bi/developer/embedded/embedding#embedding-for-your-organization)\n",
    "#### Following two methods can be used to authenticate the user and get the access token:\n",
    "\n",
    "- [Device flow authentication](https://msal-python.readthedocs.io/en/latest/#msal.PublicClientApplication.acquire_token_by_device_flow)\n",
    "    \n",
    "    Code snippet:\n",
    "    ``` py\n",
    "    from powerbiclient.authentication import DeviceCodeLoginAuthentication\n",
    "    device_auth = DeviceCodeLoginAuthentication()\n",
    "    token_with_device_code = device_auth.get_access_token()\n",
    "    ```\n",
    "- [Interactive authentication](https://msal-python.readthedocs.io/en/latest/#msal.PublicClientApplication.acquire_token_interactive)\n",
    "    \n",
    "    Code snippet:\n",
    "    ``` py\n",
    "    from powerbiclient.authentication import InteractiveLoginAuthentication\n",
    "    interactive_auth = InteractiveLoginAuthentication()\n",
    "    token_with_redirect = interactive_auth.get_access_token()\n",
    "    \n",
    "    ```\n",
    "    \n",
    "Note: Use the access token acquired above while creating the report instance\n",
    "    \n",
    "    \n",
    "\n",
    "### [Embedding for your customers](https://docs.microsoft.com/en-us/power-bi/developer/embedded/embedding#embedding-for-your-customers)\n",
    "#### For the purpose of demo, a sample report is being embedded:"
   ]
  },
  {
   "cell_type": "code",
   "execution_count": null,
   "metadata": {},
   "outputs": [],
   "source": [
    "# Embed config for sample report\n",
    "res = requests.get('https://playgroundbe-bck-1.azurewebsites.net/Reports/SampleReport')\n",
    "\n",
    "access_token = res.json()['EmbedToken']['Token']\n",
    "embed_url = res.json()['EmbedUrl']"
   ]
  },
  {
   "cell_type": "markdown",
   "metadata": {},
   "source": [
    "### Create an instance of Power BI Report"
   ]
  },
  {
   "cell_type": "code",
   "execution_count": null,
   "metadata": {},
   "outputs": [],
   "source": [
    "report = Report(access_token=access_token, embed_url=embed_url, token_type=1)"
   ]
  },
  {
   "cell_type": "markdown",
   "metadata": {},
   "source": [
    "### Power BI event handlers"
   ]
  },
  {
   "cell_type": "markdown",
   "metadata": {},
   "source": [
    "#### Set report loaded event handler"
   ]
  },
  {
   "cell_type": "code",
   "execution_count": null,
   "metadata": {},
   "outputs": [],
   "source": [
    "def loaded_callback(event_details):\n",
    "    print('Report is loaded')\n",
    "\n",
    "report.on('loaded', loaded_callback)"
   ]
  },
  {
   "cell_type": "markdown",
   "metadata": {},
   "source": [
    "#### Set report rendered event handler"
   ]
  },
  {
   "cell_type": "code",
   "execution_count": null,
   "metadata": {},
   "outputs": [],
   "source": [
    "def rendered_callback(event_details):\n",
    "    print('Report is rendered')\n",
    "\n",
    "report.on('rendered', rendered_callback)"
   ]
  },
  {
   "cell_type": "markdown",
   "metadata": {},
   "source": [
    "#### Set report error event handler"
   ]
  },
  {
   "cell_type": "code",
   "execution_count": null,
   "metadata": {},
   "outputs": [],
   "source": [
    "def error_callback(event_details):\n",
    "    print('error', event_details)\n",
    "\n",
    "report.on('error', error_callback)"
   ]
  },
  {
   "cell_type": "markdown",
   "metadata": {},
   "source": [
    "#### Load the report in the output cell"
   ]
  },
  {
   "cell_type": "code",
   "execution_count": null,
   "metadata": {
    "scrolled": false
   },
   "outputs": [],
   "source": [
    "# Render report\n",
    "report"
   ]
  },
  {
   "cell_type": "markdown",
   "metadata": {},
   "source": [
    "#### Change dimensions of embedded report"
   ]
  },
  {
   "cell_type": "code",
   "execution_count": null,
   "metadata": {
    "scrolled": false
   },
   "outputs": [],
   "source": [
    "# Change dimensions of embedded report\n",
    "report.set_dimensions(300, 450)"
   ]
  },
  {
   "cell_type": "markdown",
   "metadata": {},
   "source": [
    "### Export data from a visual of the embedded report"
   ]
  },
  {
   "cell_type": "markdown",
   "metadata": {},
   "source": [
    "#### Get the active page"
   ]
  },
  {
   "cell_type": "code",
   "execution_count": null,
   "metadata": {
    "scrolled": false
   },
   "outputs": [],
   "source": [
    "def get_active_page(self):\n",
    "    \n",
    "    # Get list of pages\n",
    "    pages = self.get_pages()\n",
    "    active_page = {}\n",
    "    for page in pages:\n",
    "        \n",
    "        # Get active page\n",
    "        if page['isActive'] == True:\n",
    "            active_page = page\n",
    "            break\n",
    "    return active_page"
   ]
  },
  {
   "cell_type": "markdown",
   "metadata": {},
   "source": [
    "#### Get the visual whose data is to be exported"
   ]
  },
  {
   "cell_type": "code",
   "execution_count": null,
   "metadata": {},
   "outputs": [],
   "source": [
    "active_page = get_active_page(report)\n",
    "active_page_name = active_page['name']\n",
    "\n",
    "# Get list of visuals on active page\n",
    "visuals = report.visuals_on_page(active_page_name)\n",
    "\n",
    "# Get visual whose type is 'clusteredColumnChart'\n",
    "visual = next(filter(lambda visual: visual['type'] == 'clusteredColumnChart', visuals))\n",
    "visual_name = visual['name']"
   ]
  },
  {
   "cell_type": "markdown",
   "metadata": {},
   "source": [
    "#### Export summarized data from a visual of the embedded report"
   ]
  },
  {
   "cell_type": "code",
   "execution_count": null,
   "metadata": {},
   "outputs": [],
   "source": [
    "summarized_exported_data = report.export_visual_data(active_page_name, visual_name, rows = 20)\n",
    "\n",
    "print(summarized_exported_data)"
   ]
  },
  {
   "cell_type": "markdown",
   "metadata": {},
   "source": [
    "#### Export underlying data from a visual of the embedded report"
   ]
  },
  {
   "cell_type": "code",
   "execution_count": null,
   "metadata": {},
   "outputs": [],
   "source": [
    "underlying_exported_data = report.export_visual_data(active_page_name, visual_name, rows = 5, underlying_data = True)\n",
    "\n",
    "print(underlying_exported_data)"
   ]
  },
  {
   "cell_type": "markdown",
   "metadata": {},
   "source": [
    "### Convert exported visual data into CSV and load into pandas dataframe"
   ]
  },
  {
   "cell_type": "code",
   "execution_count": null,
   "metadata": {},
   "outputs": [],
   "source": [
    "data = StringIO(summarized_exported_data)\n",
    "\n",
    "df = pd.read_csv(data, sep=\",\")\n",
    "df.head()"
   ]
  },
  {
   "cell_type": "markdown",
   "metadata": {},
   "source": [
    "### Visualize the data"
   ]
  },
  {
   "cell_type": "code",
   "execution_count": null,
   "metadata": {},
   "outputs": [],
   "source": [
    "df.plot.pie(y=\"Total Units\", labels=df.loc[:,'isVanArsdel'].values.tolist(), figsize=(10,15))"
   ]
  },
  {
   "cell_type": "markdown",
   "metadata": {},
   "source": [
    "### Filter the report by region"
   ]
  },
  {
   "cell_type": "code",
   "execution_count": null,
   "metadata": {},
   "outputs": [],
   "source": [
    "def filter_report(Region):\n",
    "    region_filter = {\n",
    "        '$schema': \"http://powerbi.com/product/schema#basic\",\n",
    "        'target': {\n",
    "            'table': \"Geo\",\n",
    "            'column': \"Region\"\n",
    "        },\n",
    "        'operator': \"In\",\n",
    "        'values': [Region]\n",
    "    }\n",
    "    report.remove_filters()\n",
    "    report.update_filters([region_filter])"
   ]
  },
  {
   "cell_type": "markdown",
   "metadata": {},
   "source": [
    "### Filter report using ipywidget"
   ]
  },
  {
   "cell_type": "code",
   "execution_count": null,
   "metadata": {},
   "outputs": [],
   "source": [
    "report"
   ]
  },
  {
   "cell_type": "code",
   "execution_count": null,
   "metadata": {},
   "outputs": [],
   "source": [
    "interact(filter_report, Region=['Central', 'East', 'West']);"
   ]
  },
  {
   "cell_type": "markdown",
   "metadata": {},
   "source": [
    "### Get report bookmarks"
   ]
  },
  {
   "cell_type": "code",
   "execution_count": null,
   "metadata": {},
   "outputs": [],
   "source": [
    "bookmark_list = report.get_bookmarks()\n",
    "print(bookmark_list)"
   ]
  },
  {
   "cell_type": "markdown",
   "metadata": {},
   "source": [
    "### Apply report bookmark"
   ]
  },
  {
   "cell_type": "code",
   "execution_count": null,
   "metadata": {},
   "outputs": [],
   "source": [
    "bookmark_name_list = [bookmark_name['name'] for bookmark_name in bookmark_list]\n",
    "print(bookmark_name_list)"
   ]
  },
  {
   "cell_type": "code",
   "execution_count": null,
   "metadata": {},
   "outputs": [],
   "source": [
    "def apply_bookmark(BookmarkName):\n",
    "    report.set_bookmark(BookmarkName)"
   ]
  },
  {
   "cell_type": "markdown",
   "metadata": {},
   "source": [
    "### Apply bookmark using ipywidget"
   ]
  },
  {
   "cell_type": "code",
   "execution_count": null,
   "metadata": {},
   "outputs": [],
   "source": [
    "report"
   ]
  },
  {
   "cell_type": "code",
   "execution_count": null,
   "metadata": {},
   "outputs": [],
   "source": [
    "interact(apply_bookmark, BookmarkName=bookmark_name_list)"
   ]
  }
 ],
 "metadata": {
  "kernelspec": {
   "display_name": "Python 3",
   "language": "python",
   "name": "python3"
  },
  "language_info": {
   "codemirror_mode": {
    "name": "ipython",
    "version": 3
   },
   "file_extension": ".py",
   "mimetype": "text/x-python",
   "name": "python",
   "nbconvert_exporter": "python",
   "pygments_lexer": "ipython3",
   "version": "3.8.6"
  }
 },
 "nbformat": 4,
 "nbformat_minor": 2
}
